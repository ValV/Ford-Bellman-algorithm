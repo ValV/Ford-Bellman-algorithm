{
 "cells": [
  {
   "cell_type": "markdown",
   "metadata": {},
   "source": [
    "## Ford-Bellman algorithm\n",
    "---\n",
    "Represents a way to find the minimum path in weighted graph using Ford-Bellman[-Moore] algorithm with predefined weight matrix for the graph."
   ]
  },
  {
   "cell_type": "code",
   "execution_count": 1,
   "metadata": {
    "scrolled": false
   },
   "outputs": [
    {
     "name": "stdout",
     "output_type": "stream",
     "text": [
      "[[ inf  5.   4.   inf  3.   inf  inf  0.   0.   0.   0. ]\n",
      " [ inf  inf  inf  inf  inf -1.   inf  inf  5.   5.   5. ]\n",
      " [ inf  inf  inf  inf  inf  inf  3.   inf  4.   4.   4. ]\n",
      " [ 4.5  inf  inf  inf  inf  inf  inf  inf  inf  8.   8. ]\n",
      " [ inf  inf  7.   5.   inf  6.   inf  inf  3.   3.   3. ]\n",
      " [ inf  inf  inf  inf  inf  inf  inf  inf  inf  4.   4. ]\n",
      " [ inf  inf  inf  inf  inf  inf  inf  inf  inf  7.   7. ]]\n",
      "Graph minimal path length = 2\n",
      "Graph minimal path (by vertices): [1 5 4]\n"
     ]
    }
   ],
   "source": [
    "# Define shorthands\n",
    "import numpy as np\n",
    "inf = np.inf\n",
    "s = 1 # start vertex\n",
    "e = 4 # end vertex\n",
    "n = 7 # matrix dimensions\n",
    "\n",
    "# Graph weight matrix\n",
    "graph = np.array([\n",
    "    (inf, 5.0, 4.0, inf, 3.0, inf, inf),\n",
    "    (inf, inf, inf, inf, inf, -1., inf),\n",
    "    (inf, inf, inf, inf, inf, inf, 3.0),\n",
    "    (4.5, inf, inf, inf, inf, inf, inf),\n",
    "    (inf, inf, 7.0, 5.0, inf, 6.0, inf),\n",
    "    (inf, inf, inf, inf, inf, inf, inf),\n",
    "    (inf, inf, inf, inf, inf, inf, inf)], dtype=float)\n",
    "\n",
    "# Append lambda-0 column to the matrix\n",
    "graph = np.append(graph, np.ones((7, 1), dtype=float) * inf, axis = 1)\n",
    "\n",
    "# Set lambda-0 start element as zero (reachable for itself)\n",
    "graph[(s - 1), -1:] = 0\n",
    "\n",
    "# Stage 1: Build lambda-matrix\n",
    "while True:\n",
    "    # Add lambda-n column to the matrix (copy of lambda-m, m = n - 1)\n",
    "    graph = np.append(graph, graph[:, -1:], axis = 1)\n",
    "    # Cycle through images (relaxation)\n",
    "    for vertex in range(0, graph.shape[0]):\n",
    "        # Cycle through preimages for the image (the same dimension)\n",
    "        for preimage in range(0, graph.shape[0]):\n",
    "            # If preimage's weight is finite, then compare with prev relax of preimage + preimage's weight\n",
    "            if graph[preimage, vertex] != inf:\n",
    "                graph[vertex, -1:] = min(graph[vertex, -1:], graph[preimage, -2:-1] + graph[preimage, vertex])\n",
    "    # Finish the cycle if the relaxation gave no more options (or maximum size is reached)\n",
    "    if (graph[:, -2:-1] == graph[:, -1:]).all() or graph.shape[1] >= n * 2:\n",
    "    #if graph.shape[1] >= n * 2:\n",
    "        break\n",
    "\n",
    "# Display output\n",
    "print (graph)\n",
    "#print (\"Final relaxations match:\", (graph[:,-2:-1] == graph[:,-1:]).all()) # DEBUG\n",
    "#print (graph.shape[1]) # DEBUG\n",
    "#print (\"Matrix width:\", len(graph[0,:])) # DEBUG\n",
    "\n",
    "# Stage 2: Build path\n",
    "length = 0\n",
    "#print (graph.shape[1] - n)\n",
    "for i in range(n + 1, graph.shape[1]):\n",
    "    if graph[e - 1, i] < graph[e - 1, i - 1]:\n",
    "        length = i - n\n",
    "print (\"Graph minimal path length =\", length)\n",
    "# Prepare minimal path vector\n",
    "path = np.zeros([length + 1], dtype=int)\n",
    "# Set the last path vertex\n",
    "path[length] = e\n",
    "# Add vertices to the path in reverse order\n",
    "for node in range(length, 0, -1):\n",
    "    #print (\"Processing node:\", node) # DEBUG\n",
    "    # Check each preimage (each row in the node's column)\n",
    "    for vertex in range(0, n):\n",
    "        # Process only finite weights\n",
    "        if graph[vertex, path[node] - 1] != inf:\n",
    "            #print (\"Processing preimage:\", vertex) # DEBUG\n",
    "            # If condition \"lambda-m (preimage) = lambda-n (image) + weight\" match\n",
    "            if graph[vertex, n + length] == graph[path[node] - 1, n + length + 1] - graph[vertex, path[node] - 1]:\n",
    "                # Then this is the correct preimage - add it to the path\n",
    "                path[node - 1] = vertex + 1\n",
    "print (\"Graph minimal path (by vertices):\", path)\n",
    "# TODO: Add path weight"
   ]
  }
 ],
 "metadata": {
  "kernelspec": {
   "display_name": "Python 3",
   "language": "python",
   "name": "python3"
  },
  "language_info": {
   "codemirror_mode": {
    "name": "ipython",
    "version": 3
   },
   "file_extension": ".py",
   "mimetype": "text/x-python",
   "name": "python",
   "nbconvert_exporter": "python",
   "pygments_lexer": "ipython3",
   "version": "3.6.2"
  }
 },
 "nbformat": 4,
 "nbformat_minor": 2
}
